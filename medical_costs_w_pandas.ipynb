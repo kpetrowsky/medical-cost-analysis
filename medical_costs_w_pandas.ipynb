{
 "cells": [
  {
   "cell_type": "code",
   "execution_count": 161,
   "id": "9ac52997-67a9-41ad-929f-c16d09d632cc",
   "metadata": {},
   "outputs": [
    {
     "name": "stdout",
     "output_type": "stream",
     "text": [
      "   age     sex     bmi  children smoker     region      charges\n",
      "0   19  female  27.900         0    yes  southwest  16884.92400\n",
      "1   18    male  33.770         1     no  southeast   1725.55230\n",
      "2   28    male  33.000         3     no  southeast   4449.46200\n",
      "3   33    male  22.705         0     no  northwest  21984.47061\n",
      "4   32    male  28.880         0     no  northwest   3866.85520\n"
     ]
    }
   ],
   "source": [
    "# imports the needed libraries and csv file. Prints the head of the dataframe as a reference\n",
    "# data cleaning steps are skipped since this is a clean dataset\n",
    "import pandas as pd\n",
    "import matplotlib.pyplot as plt\n",
    "\n",
    "insurance_df = pd.read_csv('insurance.csv')\n",
    "print(insurance_df.head())"
   ]
  },
  {
   "cell_type": "code",
   "execution_count": 163,
   "id": "e6f6042c-9b3b-461a-90b6-182618f9da8c",
   "metadata": {},
   "outputs": [
    {
     "data": {
      "text/plain": [
       "' \\nThis code will repeat through the following process multiple times:\\n1. choose a variable to study\\n2. select a control group\\n3. Observe the relationship between the variable and charges\\n4. Calculate that relationship\\n5. Reduce the charges and variable value so that all observations have the same variable value and minimum charged value\\n6. Identify the mode of each control group and fill a new column with that mode value\\n'"
      ]
     },
     "execution_count": 163,
     "metadata": {},
     "output_type": "execute_result"
    }
   ],
   "source": [
    "\"\"\" \n",
    "This code will repeat through the following process multiple times:\n",
    "1. choose a variable to study\n",
    "2. select a control group\n",
    "3. Observe the relationship between the variable and charges\n",
    "4. Calculate that relationship\n",
    "5. Reduce the charges and variable value so that all observations have the same variable value and minimum charged value\n",
    "6. Identify the mode of each control group and fill a new column with that mode value\n",
    "\"\"\"\n",
    "# the variable I chose to study first was bmi (body mass index) since it was the variable with the most variation which makes it impossible to group"
   ]
  },
  {
   "cell_type": "code",
   "execution_count": 165,
   "id": "81a0bc75-a56b-46f7-af17-6f26c9a32b73",
   "metadata": {},
   "outputs": [
    {
     "name": "stdout",
     "output_type": "stream",
     "text": [
      "    age     sex  children smoker     region  bmi\n",
      "0    18  female         0     no  northeast   12\n",
      "1    18  female         0     no  southeast   12\n",
      "33   19    male         0     no  southwest   10\n",
      "32   19    male         0     no  northwest   10\n",
      "10   18    male         0     no  southeast   10\n"
     ]
    }
   ],
   "source": [
    "# Finds available control groups by aggregating data by all variables except bmi. \n",
    "bmi_groups = insurance_df.groupby(['age','sex','children','smoker','region']).bmi.count().reset_index().sort_values(by=['bmi'], ascending=False)\n",
    "\n",
    "# Displays the largest control groups.\n",
    "print(bmi_groups.head())"
   ]
  },
  {
   "cell_type": "code",
   "execution_count": 167,
   "id": "55b7c059-93ab-4b6b-bb06-6eedfbf472d6",
   "metadata": {},
   "outputs": [
    {
     "data": {
      "text/plain": [
       "<matplotlib.collections.PathCollection at 0x27e7857da60>"
      ]
     },
     "execution_count": 167,
     "metadata": {},
     "output_type": "execute_result"
    },
    {
     "data": {
      "image/png": "[encoded data removed]",
      "text/plain": [
       "<Figure size 640x480 with 1 Axes>"
      ]
     },
     "metadata": {},
     "output_type": "display_data"
    }
   ],
   "source": [
    "# Creates a sample group based on the values from one of the larger groups in bmi_groups\n",
    "bmi_control_group = insurance_df[\n",
    "(insurance_df.age==18)&\n",
    "(insurance_df.sex=='female')&\n",
    "(insurance_df.children==0)&\n",
    "(insurance_df.smoker=='no')&\n",
    "(insurance_df.region=='northeast')].sort_values(by=['bmi']).reset_index()\n",
    "\n",
    "# Plots the control group to see the relationship between bmi and charges. Note that two people that are way more expensive than the rest\n",
    "plt.scatter(bmi_control_group.bmi,bmi_control_group.charges)"
   ]
  },
  {
   "cell_type": "code",
   "execution_count": 169,
   "id": "ced0626e-aa2f-4d4f-b3fa-609ee9a206a2",
   "metadata": {},
   "outputs": [
    {
     "data": {
      "text/plain": [
       "<matplotlib.collections.PathCollection at 0x27e7948a570>"
      ]
     },
     "execution_count": 169,
     "metadata": {},
     "output_type": "execute_result"
    },
    {
     "data": {
      "image/png": "[encoded data removed]",
      "text/plain": [
       "<Figure size 640x480 with 1 Axes>"
      ]
     },
     "metadata": {},
     "output_type": "display_data"
    }
   ],
   "source": [
    "# Filters the control group to only show observations charged less than 3000. Now we can see a clear linear line.\n",
    "bmi_control_group = bmi_control_group[bmi_control_group.charges < 3000]\n",
    "plt.scatter(bmi_control_group.bmi,bmi_control_group.charges)"
   ]
  },
  {
   "cell_type": "code",
   "execution_count": 171,
   "id": "7055b9ac-3f5e-47fc-b297-545d055f98a1",
   "metadata": {},
   "outputs": [
    {
     "name": "stdout",
     "output_type": "stream",
     "text": [
      "   index  age     sex     bmi  children smoker     region       charges  \\\n",
      "0    492   18  female  25.080         0     no  northeast   2196.473200   \n",
      "1     31   18  female  26.315         0     no  northeast   2198.189850   \n",
      "2   1163   18  female  28.215         0     no  northeast   2200.830850   \n",
      "3    427   18  female  29.165         0     no  northeast   7323.734819   \n",
      "4    102   18  female  30.115         0     no  northeast  21344.846700   \n",
      "\n",
      "   charges_zero_bmi  \n",
      "0       2161.612000  \n",
      "1       2161.612000  \n",
      "2       2161.612000  \n",
      "3       7283.195469  \n",
      "4      21302.986850  \n"
     ]
    }
   ],
   "source": [
    "# Identifies the slope by calculating the difference between two points\n",
    "bmi_diff = bmi_control_group.bmi[11] - bmi_control_group.bmi[0]\n",
    "cost_diff = bmi_control_group.charges[11] - bmi_control_group.charges[0]\n",
    "bmi_m = cost_diff / bmi_diff\n",
    "bmi_m = bmi_m.round(2)\n",
    "\n",
    "# Creates a new charges column with charges as if bmi was zero for everyone\n",
    "reduce_bmi = lambda row: row.charges - row.bmi*bmi_m\n",
    "insurance_df['charges_zero_bmi'] = insurance_df.apply(reduce_bmi, axis=1)\n",
    "\n",
    "# reprints the control group. Check if bmi charges are now equal\n",
    "bmi_control_group = insurance_df[\n",
    "(insurance_df.age==18)&\n",
    "(insurance_df.sex=='female')&\n",
    "(insurance_df.children==0)&\n",
    "(insurance_df.smoker=='no')&\n",
    "(insurance_df.region=='northeast')].sort_values(by=['bmi']).reset_index()\n",
    "print(bmi_control_group.head())"
   ]
  },
  {
   "cell_type": "code",
   "execution_count": 173,
   "id": "b7cf76f1-8b2e-459c-91b6-9353831b73ea",
   "metadata": {},
   "outputs": [
    {
     "name": "stdout",
     "output_type": "stream",
     "text": [
      "   age     sex    bmi  children smoker     region     charges  \\\n",
      "0   19  female  27.90         0    yes  southwest  16884.9240   \n",
      "1   19  female  27.90         0    yes  southwest  16884.9240   \n",
      "2   19  female  27.90         0    yes  southwest  16884.9240   \n",
      "3   18    male  33.77         1     no  southeast   1725.5523   \n",
      "4   28    male  33.00         3     no  southeast   4449.4620   \n",
      "\n",
      "   charges_zero_bmi  level_5  charge_mode_bmi  \n",
      "0         16846.143        0        13814.343  \n",
      "1         16846.143        1        16846.143  \n",
      "2         16846.143        2        17041.743  \n",
      "3          1678.612        0         1678.612  \n",
      "4          4403.592        0         4403.592  \n"
     ]
    }
   ],
   "source": [
    "# Removes outliers in each control group by assinging the mode value since the outliers will increasingly \"muddy\" the future control groups\n",
    "bmi_group_mode = insurance_df.groupby(['age','sex','children','smoker','region']).charges_zero_bmi.apply(pd.Series.mode).reset_index().rename(columns={'charges_zero_bmi': 'charge_mode_bmi'})\n",
    "insurance_df = pd.merge(insurance_df, bmi_group_mode, how='left')\n",
    "print(insurance_df.head())"
   ]
  },
  {
   "cell_type": "code",
   "execution_count": 175,
   "id": "caeb0acc-fce9-4a90-aa5d-f850860599cd",
   "metadata": {},
   "outputs": [
    {
     "data": {
      "text/plain": [
       "'\\nThe next variable studied is sex\\n\\n\\n'"
      ]
     },
     "execution_count": 175,
     "metadata": {},
     "output_type": "execute_result"
    }
   ],
   "source": [
    "\"\"\"\n",
    "The next variable studied is sex\n",
    "\n",
    "\n",
    "\"\"\""
   ]
  },
  {
   "cell_type": "code",
   "execution_count": 177,
   "id": "db571c19-bc24-4616-b5a6-42a28ec53101",
   "metadata": {},
   "outputs": [
    {
     "name": "stdout",
     "output_type": "stream",
     "text": [
      "    age  children smoker     region  s_count\n",
      "0    18         0     no  northeast       30\n",
      "16   19         0    yes  northwest       25\n",
      "1    18         0     no  southeast       22\n",
      "18   19         0    yes  southwest       18\n",
      "15   19         0     no  southwest       18\n"
     ]
    }
   ],
   "source": [
    "# Finds available control groups by aggregating data by all variables except bmi and sex\n",
    "s_groups = insurance_df.groupby(['age','children','smoker','region']).sex.count().reset_index().sort_values(by=['sex'], ascending=False).rename(columns={'sex': 's_count'})\n",
    "\n",
    "# Displays the largest control groups\n",
    "print(s_groups.head())"
   ]
  },
  {
   "cell_type": "code",
   "execution_count": 179,
   "id": "8e80a72f-10ce-4413-98fc-5d8c92a2c4a7",
   "metadata": {},
   "outputs": [
    {
     "name": "stdout",
     "output_type": "stream",
     "text": [
      "       sex  charge_mode_bmi\n",
      "0     male         1089.612\n",
      "1   female         1578.612\n",
      "2     male         1089.612\n",
      "3   female         1578.612\n",
      "4   female         1578.612\n",
      "5   female         1578.612\n",
      "6   female         1578.612\n",
      "7     male         1089.612\n",
      "8   female         1578.612\n",
      "9   female         1578.612\n",
      "10  female         1578.612\n",
      "11    male         1089.612\n",
      "12    male         1089.612\n",
      "13    male         1089.612\n",
      "14  female         1578.612\n",
      "15    male         1089.612\n",
      "16  female         1578.612\n",
      "17    male         1089.612\n",
      "18    male         1089.612\n",
      "19  female         1578.612\n",
      "20    male         1089.612\n",
      "21  female         1578.612\n"
     ]
    }
   ],
   "source": [
    "# Creates a sample group based on the values from the largest control group\n",
    "s_control_group1 = insurance_df[\n",
    "(insurance_df.age==18)&\n",
    "(insurance_df.children==0)&\n",
    "(insurance_df.smoker=='no')&\n",
    "(insurance_df.region=='southeast')].reset_index()\n",
    "\n",
    "# prints the control group to see if there is a obvious mode value for each sex\n",
    "print(s_control_group1[['sex','charge_mode_bmi']])\n",
    "\n",
    "# Calculates the charges difference and multiplier between a male and a female\n",
    "s_diff1 = s_control_group1.charge_mode_bmi[1] - s_control_group1.charge_mode_bmi[0]\n",
    "s_mult1 = s_control_group1.charge_mode_bmi[1] / s_control_group1.charge_mode_bmi[0]"
   ]
  },
  {
   "cell_type": "code",
   "execution_count": 181,
   "id": "cb88ac77-18e8-4f92-9bab-977b203fe21b",
   "metadata": {},
   "outputs": [
    {
     "name": "stdout",
     "output_type": "stream",
     "text": [
      "       sex  charge_mode_bmi\n",
      "0   female         2161.612\n",
      "1   female         2161.612\n",
      "2   female         2161.612\n",
      "3     male         1672.612\n",
      "4     male         1672.612\n",
      "5     male         1672.612\n",
      "6     male         1672.612\n",
      "7     male         1672.612\n",
      "8     male         1672.612\n",
      "9   female         2161.612\n",
      "10  female         2161.612\n",
      "11  female         2161.612\n",
      "12    male         1672.612\n",
      "13    male         1672.612\n",
      "14  female         2161.612\n",
      "15    male         1672.612\n",
      "16    male         1672.612\n",
      "17  female         2161.612\n",
      "18  female         2161.612\n",
      "19    male         1672.612\n",
      "20    male         1672.612\n",
      "21  female         2161.612\n",
      "22  female         2161.612\n",
      "23    male         1672.612\n",
      "24    male         1672.612\n",
      "25    male         1672.612\n",
      "26    male         1672.612\n",
      "27    male         1672.612\n",
      "28    male         1672.612\n",
      "29  female         2161.612\n",
      "489.0\n",
      "489.0000000000002\n",
      "1.448783603704805\n",
      "1.2923571037395405\n"
     ]
    }
   ],
   "source": [
    "# Selects the observations for the second largest control group\n",
    "s_control_group = insurance_df[\n",
    "(insurance_df.age==18)&\n",
    "(insurance_df.children==0)&\n",
    "(insurance_df.smoker=='no')&\n",
    "(insurance_df.region=='northeast')].reset_index()\n",
    "\n",
    "print(s_control_group[['sex','charge_mode_bmi']])\n",
    "\n",
    "# Calculates the charges difference and multiplier between a male and a female for the second control groups\n",
    "s_diff2 = s_control_group.charge_mode_bmi[2] - s_control_group.charge_mode_bmi[3]\n",
    "s_mult2 = s_control_group.charge_mode_bmi[2] / s_control_group.charge_mode_bmi[3]\n",
    "\n",
    "#prints out the multipliers and differences of both control groups for comparison\n",
    "print(s_diff1)\n",
    "print(s_diff2)\n",
    "print(s_mult1)\n",
    "print(s_mult2)"
   ]
  },
  {
   "cell_type": "code",
   "execution_count": 183,
   "id": "dd883574-0811-4580-adec-9de3e0df56ee",
   "metadata": {},
   "outputs": [
    {
     "name": "stdout",
     "output_type": "stream",
     "text": [
      "   age     sex   bmi  children smoker     region    charges  charges_zero_bmi  \\\n",
      "0   19  female  27.9         0    yes  southwest  16884.924         16846.143   \n",
      "1   19  female  27.9         0    yes  southwest  16884.924         16846.143   \n",
      "2   19  female  27.9         0    yes  southwest  16884.924         16846.143   \n",
      "3   19  female  27.9         0    yes  southwest  16884.924         16846.143   \n",
      "4   19  female  27.9         0    yes  southwest  16884.924         16846.143   \n",
      "\n",
      "   level_5  charge_mode_bmi  charges_male  level_4  charge_mode_sex  \n",
      "0        0        13814.343     13325.343        0        13325.343  \n",
      "1        0        13814.343     13325.343        1        16259.343  \n",
      "2        0        13814.343     13325.343        2        16357.143  \n",
      "3        0        13814.343     13325.343        3        16552.743  \n",
      "4        0        13814.343     13325.343        4        34731.243  \n"
     ]
    }
   ],
   "source": [
    "# The multiplier is discarded and the difference of 489 is kept. Females are charged 489 more\n",
    "# a new charges column is created with charges as if everyone was male\n",
    "reduce_s = lambda row: row.charge_mode_bmi - 489 if row.sex == 'female' else row.charge_mode_bmi\n",
    "insurance_df['charges_male'] = insurance_df.apply(reduce_s, axis=1)\n",
    "\n",
    "# Removes outliers in each control group by assinging the mode value since the outliers will increasingly \"muddy\" the future control groups\n",
    "sex_group_mode = insurance_df.groupby(['age','children','smoker','region']).charges_male.apply(pd.Series.mode).reset_index().rename(columns={'charges_male': 'charge_mode_sex'})\n",
    "insurance_df = pd.merge(insurance_df, sex_group_mode, how='left')\n",
    "print(insurance_df.head())"
   ]
  },
  {
   "cell_type": "code",
   "execution_count": 315,
   "id": "7d5ca873-6217-44d6-9489-f403a9117652",
   "metadata": {},
   "outputs": [
    {
     "name": "stdout",
     "output_type": "stream",
     "text": [
      "   age  children smoker     region  charges_male\n",
      "0   19         0    yes  southwest     16357.143\n",
      "1   18         1     no  southeast      1678.612\n",
      "2   28         3     no  southeast      4403.592\n",
      "3   33         0     no  northwest     21952.911\n",
      "4   32         0     no  northwest      3826.712\n"
     ]
    }
   ],
   "source": [
    "\"\"\"\n",
    "The next variable studied is region\n",
    "\n",
    "\n",
    "\n",
    "\"\"\""
   ]
  },
  {
   "cell_type": "code",
   "execution_count": 185,
   "id": "5c8ed1e9-b059-4859-ab04-00a88d9419bb",
   "metadata": {},
   "outputs": [
    {
     "name": "stdout",
     "output_type": "stream",
     "text": [
      "     age  children smoker  r_count\n",
      "10    19         0    yes      218\n",
      "1     18         0    yes       78\n",
      "0     18         0     no       52\n",
      "9     19         0     no       34\n",
      "283   53         0     no       34\n"
     ]
    }
   ],
   "source": [
    "# Finds available control groups by aggregating data by all variables except bmi and sex\n",
    "r_groups = insurance_df.groupby(['age','children','smoker']).region.count().reset_index().sort_values(by=['region'], ascending=False).rename(columns={'region': 'r_count'})\n",
    "\n",
    "# Displays the largest control groups\n",
    "print(r_groups.head())"
   ]
  },
  {
   "cell_type": "code",
   "execution_count": 193,
   "id": "3d43c6c6-e7ec-43fb-b9a3-3c19e1da1b98",
   "metadata": {},
   "outputs": [
    {
     "name": "stdout",
     "output_type": "stream",
     "text": [
      "      region  charge_mode_sex\n",
      "0  northwest         1597.043\n",
      "1  southwest         1214.043\n",
      "2  northwest         1597.043\n",
      "3  southwest         1214.043\n",
      "4  northwest         1597.043\n",
      "5  northwest         1597.043\n",
      "6  southwest         1214.043\n",
      "7  southwest         1214.043\n",
      "8  northwest         1597.043\n",
      "9  southwest         1214.043\n"
     ]
    }
   ],
   "source": [
    "# Creates a sample group based on the values from the largest control group\n",
    "r_control_group = insurance_df[\n",
    "(insurance_df.age==19)&\n",
    "(insurance_df.children==0)&\n",
    "(insurance_df.smoker=='no')].reset_index()\n",
    "print(r_control_group[['region','charge_mode_sex']].head(10))"
   ]
  },
  {
   "cell_type": "code",
   "execution_count": 341,
   "id": "33c860e0-0f3a-4da7-823a-ef438d96260b",
   "metadata": {},
   "outputs": [
    {
     "name": "stdout",
     "output_type": "stream",
     "text": [
      "383.0\n",
      "583.0\n"
     ]
    }
   ],
   "source": [
    "\"\"\"\n",
    "Observing sample groups allows us to know that charges for southeast = southwest, north > south, northeast > northwest\n",
    "Calculating the difference between observations allow us to know that people in the northwest are charged 383 more,\n",
    "and that people in the northeast are charged 583 more\n",
    "\"\"\"\n",
    "diff_nw = 383\n",
    "diff_ne = 583"
   ]
  },
  {
   "cell_type": "code",
   "execution_count": 195,
   "id": "e8b0dc29-1c75-4aaf-82bd-463e069e0a53",
   "metadata": {},
   "outputs": [
    {
     "name": "stdout",
     "output_type": "stream",
     "text": [
      "   age     sex   bmi  children smoker     region    charges  charges_zero_bmi  \\\n",
      "0   19  female  27.9         0    yes  southwest  16884.924         16846.143   \n",
      "1   19  female  27.9         0    yes  southwest  16884.924         16846.143   \n",
      "2   19  female  27.9         0    yes  southwest  16884.924         16846.143   \n",
      "3   19  female  27.9         0    yes  southwest  16884.924         16846.143   \n",
      "4   19  female  27.9         0    yes  southwest  16884.924         16846.143   \n",
      "\n",
      "   level_5  charge_mode_bmi  charges_male  level_4  charge_mode_sex  \\\n",
      "0        0        13814.343     13325.343        0        13325.343   \n",
      "1        0        13814.343     13325.343        0        13325.343   \n",
      "2        0        13814.343     13325.343        0        13325.343   \n",
      "3        0        13814.343     13325.343        0        13325.343   \n",
      "4        0        13814.343     13325.343        1        16259.343   \n",
      "\n",
      "   charges_south  level_3  charge_mode_region  \n",
      "0      13325.343        0         16557.63300  \n",
      "1      13325.343        1         16836.36300  \n",
      "2      13325.343        2         32393.82300  \n",
      "3      13325.343        3         35981.57198  \n",
      "4      16259.343        0         16557.63300  \n"
     ]
    }
   ],
   "source": [
    "#creates a new charges column as if everyone lived in the south\n",
    "reduce_r = lambda row: row.charge_mode_sex - 583.0 if row.region == 'northeast' else (row.charge_mode_sex - 383.0 if row.region == 'northwest' else row.charge_mode_sex)\n",
    "insurance_df['charges_south'] = insurance_df.apply(reduce_r,axis=1)\n",
    "\n",
    "# Removes outliers in each control group by assinging the mode value since the outliers will increasingly \"muddy\" the future control groups\n",
    "r_group_mode = insurance_df.groupby(['age','children','smoker']).charges_south.apply(pd.Series.mode).reset_index().rename(columns={'charges_south': 'charge_mode_region'})\n",
    "insurance_df = pd.merge(insurance_df, r_group_mode, how='left')"
   ]
  },
  {
   "cell_type": "code",
   "execution_count": 355,
   "id": "445ef0d2-5bae-4e52-8f5b-f0954f29a741",
   "metadata": {},
   "outputs": [
    {
     "name": "stdout",
     "output_type": "stream",
     "text": [
      "   age  children smoker  charges_south\n",
      "0   19         0    yes      16357.143\n",
      "1   18         1     no       1678.612\n",
      "2   28         3     no       4403.592\n",
      "3   33         0     no       3662.307\n",
      "4   32         0     no       3443.712\n"
     ]
    }
   ],
   "source": [
    "\"\"\"\n",
    "The next variable studied is children\n",
    "\n",
    "\n",
    "\n",
    "\"\"\""
   ]
  },
  {
   "cell_type": "code",
   "execution_count": 199,
   "id": "814c95d4-ac6b-400e-9cf1-681629416c55",
   "metadata": {},
   "outputs": [
    {
     "name": "stdout",
     "output_type": "stream",
     "text": [
      "    age smoker  c_count\n",
      "3    19    yes      874\n",
      "1    18    yes      318\n",
      "19   27    yes      139\n",
      "13   24    yes       96\n",
      "0    18     no       68\n"
     ]
    }
   ],
   "source": [
    "# Finds available control groups by aggregating data by age and smoker status\n",
    "c_groups = insurance_df.groupby(['age','smoker']).children.count().reset_index().sort_values(by=['children'], ascending=False).rename(columns={'children': 'c_count'})\n",
    "\n",
    "# Displays the largest control groups\n",
    "print(c_groups.head())"
   ]
  },
  {
   "cell_type": "code",
   "execution_count": 207,
   "id": "43fbed2b-698f-4f50-8974-d556076bf452",
   "metadata": {
    "scrolled": true
   },
   "outputs": [
    {
     "data": {
      "text/plain": [
       "<matplotlib.collections.PathCollection at 0x27e79068830>"
      ]
     },
     "execution_count": 207,
     "metadata": {},
     "output_type": "execute_result"
    },
    {
     "data": {
      "image/png": "[encoded data removed]",
      "text/plain": [
       "<Figure size 640x480 with 1 Axes>"
      ]
     },
     "metadata": {},
     "output_type": "display_data"
    }
   ],
   "source": [
    "# creates sample group\n",
    "c_control_group = insurance_df[\n",
    "(insurance_df.age==18)&\n",
    "(insurance_df.smoker=='no')].reset_index()\n",
    "\n",
    "#plots the control group to identify a linear relationship\n",
    "plt.scatter(c_control_group.children,c_control_group.charge_mode_region)"
   ]
  },
  {
   "cell_type": "code",
   "execution_count": 217,
   "id": "2575120e-d317-4be8-8092-79860cef54fd",
   "metadata": {},
   "outputs": [
    {
     "name": "stdout",
     "output_type": "stream",
     "text": [
      "589.0\n"
     ]
    }
   ],
   "source": [
    "# The chart shows a linear relationship between charges and number of children, each additional child adds 589\n",
    "diff_child = c_control_group.charge_mode_region[0] - c_control_group.charge_mode_region[1]\n",
    "print(diff_child)\n",
    "\n",
    "# creates a new charges column with charges as if everyone has zero children\n",
    "reduce_c = lambda row: row.charge_mode_region - row.children * 589.0\n",
    "insurance_df['charges_noc'] = insurance_df.apply(reduce_c,axis=1)\n",
    "\n",
    "# Removes outliers in each control group by assinging the mode value since the outliers will increasingly \"muddy\" the future control groups\n",
    "c_group_mode = insurance_df.groupby(['age','smoker']).charges_noc.apply(pd.Series.mode).reset_index().rename(columns={'charges_noc': 'charge_mode_children'})\n",
    "insurance_df = pd.merge(insurance_df, c_group_mode, how='left')\n",
    "\n"
   ]
  },
  {
   "cell_type": "code",
   "execution_count": 453,
   "id": "5db41106-c276-4d4d-919f-caca079a75d5",
   "metadata": {},
   "outputs": [
    {
     "name": "stdout",
     "output_type": "stream",
     "text": [
      "   age smoker  charges_noc\n",
      "0   19    yes    16357.143\n",
      "1   18     no     1089.612\n",
      "2   28     no     2636.592\n",
      "3   33     no     3662.307\n",
      "4   32     no     3443.712\n"
     ]
    }
   ],
   "source": [
    "\"\"\"\n",
    "The next variable studied is age\n",
    "\n",
    "\n",
    "\n",
    "\"\"\""
   ]
  },
  {
   "cell_type": "code",
   "execution_count": 223,
   "id": "b560d135-c12b-47db-8b6e-0cbb7f0be215",
   "metadata": {},
   "outputs": [],
   "source": [
    "# Groups together the records to identify a good age control group\n",
    "a_groups = insurance_df.groupby(['smoker']).age.count().reset_index().sort_values(by=['age'], ascending=False).rename(columns={'age': 'a_count'})"
   ]
  },
  {
   "cell_type": "code",
   "execution_count": 225,
   "id": "209521ce-95e9-4f2d-b202-c0d2fae726c8",
   "metadata": {},
   "outputs": [],
   "source": [
    "# creates sample group (filters out smokers)\n",
    "a_control_group = insurance_df[insurance_df.smoker=='no'].reset_index()"
   ]
  },
  {
   "cell_type": "code",
   "execution_count": 227,
   "id": "de9a31e3-0262-4ce1-b99c-b4af187e48fd",
   "metadata": {},
   "outputs": [
    {
     "data": {
      "text/plain": [
       "<matplotlib.collections.PathCollection at 0x27e7bd388f0>"
      ]
     },
     "execution_count": 227,
     "metadata": {},
     "output_type": "execute_result"
    },
    {
     "data": {
      "image/png": "[encoded data removed]",
      "text/plain": [
       "<Figure size 640x480 with 1 Axes>"
      ]
     },
     "metadata": {},
     "output_type": "display_data"
    }
   ],
   "source": [
    "#plots the control group to identify a linear relationship\n",
    "plt.scatter(a_control_group.age,a_control_group.charge_mode_children)"
   ]
  },
  {
   "cell_type": "code",
   "execution_count": 461,
   "id": "0ed0860e-5868-43a1-b343-8112b3f4e292",
   "metadata": {},
   "outputs": [],
   "source": [
    "\"\"\"\n",
    "Since the model is nonlinear I opted to use excel to find the equation for a mx^2 model\n",
    "I found the equation for this slope is y = 3.363x^2\n",
    "\"\"\""
   ]
  },
  {
   "cell_type": "code",
   "execution_count": 229,
   "id": "9961662d-cd05-47a4-aa18-11047598d7d4",
   "metadata": {},
   "outputs": [
    {
     "name": "stdout",
     "output_type": "stream",
     "text": [
      "   age     sex   bmi  children smoker     region    charges  charges_zero_bmi  \\\n",
      "0   19  female  27.9         0    yes  southwest  16884.924         16846.143   \n",
      "1   19  female  27.9         0    yes  southwest  16884.924         16846.143   \n",
      "2   19  female  27.9         0    yes  southwest  16884.924         16846.143   \n",
      "3   19  female  27.9         0    yes  southwest  16884.924         16846.143   \n",
      "4   19  female  27.9         0    yes  southwest  16884.924         16846.143   \n",
      "\n",
      "   level_5  charge_mode_bmi  charges_male  level_4  charge_mode_sex  \\\n",
      "0        0        13814.343     13325.343        0        13325.343   \n",
      "1        0        13814.343     13325.343        0        13325.343   \n",
      "2        0        13814.343     13325.343        0        13325.343   \n",
      "3        0        13814.343     13325.343        0        13325.343   \n",
      "4        0        13814.343     13325.343        0        13325.343   \n",
      "\n",
      "   charges_south  level_3  charge_mode_region  charges_noc  level_2  \\\n",
      "0      13325.343        0           16557.633    16557.633        0   \n",
      "1      13325.343        0           16557.633    16557.633        1   \n",
      "2      13325.343        0           16557.633    16557.633        2   \n",
      "3      13325.343        0           16557.633    16557.633        3   \n",
      "4      13325.343        1           16836.363    16836.363        0   \n",
      "\n",
      "   charge_mode_children  charges_age  \n",
      "0           16557.63300     15343.59  \n",
      "1           16836.36300     15343.59  \n",
      "2           32393.82300     15343.59  \n",
      "3           35981.57198     15343.59  \n",
      "4           16557.63300     15622.32  \n"
     ]
    }
   ],
   "source": [
    "# creates a new charges column adjusted as if everyone was 0 yrs old\n",
    "reduce_a = lambda row: row.charges_noc - float(row.age**2)*3.363\n",
    "insurance_df['charges_age'] = insurance_df.apply(reduce_a,axis=1)\n",
    "\n",
    "#exports the completed file for further analysis \n",
    "insurance_df.to_csv('insurance_w_calcs.csv',index=False)"
   ]
  },
  {
   "cell_type": "code",
   "execution_count": null,
   "id": "b76523cd-fe56-4f21-8151-13cb3cd23a28",
   "metadata": {},
   "outputs": [],
   "source": [
    "\"\"\"\n",
    "The next variable studied is smoker status\n",
    "\n",
    "\n",
    "\n",
    "\"\"\""
   ]
  },
  {
   "cell_type": "code",
   "execution_count": 231,
   "id": "b1a2c341-3e53-4669-a876-63554a8e106a",
   "metadata": {},
   "outputs": [],
   "source": [
    "#filters to only show the smoker data\n",
    "smoker_only = insurance_df[insurance_df.smoker=='yes']"
   ]
  },
  {
   "cell_type": "code",
   "execution_count": 233,
   "id": "9451e98f-16cf-4334-ab1b-9dc6e33b917c",
   "metadata": {},
   "outputs": [
    {
     "data": {
      "text/plain": [
       "<matplotlib.collections.PathCollection at 0x27e7bd3cc80>"
      ]
     },
     "execution_count": 233,
     "metadata": {},
     "output_type": "execute_result"
    },
    {
     "data": {
      "image/png": "[encoded data removed]",
      "text/plain": [
       "<Figure size 640x480 with 1 Axes>"
      ]
     },
     "metadata": {},
     "output_type": "display_data"
    }
   ],
   "source": [
    "#shows the smoker data\n",
    "plt.scatter(smoker_only.charges_age,smoker_only.age)"
   ]
  },
  {
   "cell_type": "code",
   "execution_count": null,
   "id": "01c303db-f5e5-45fa-9217-694d1988512e",
   "metadata": {},
   "outputs": [],
   "source": [
    "\"\"\"\n",
    "Observing the scatter plot will show that the smoker data sits relatively equally in two bubbles\n",
    "Identifying a set premium for smoking alone would not be meaningful \n",
    "Other factors not provided in the CSV file likely explain this difference\n",
    "In comparison, observing the scatter plot for non smokers will show only a few outliers\n",
    "This helps prove that our calculation for non smokers is largely solved\n",
    "\"\"\""
   ]
  },
  {
   "cell_type": "code",
   "execution_count": 239,
   "id": "b2876637-1bac-49ec-abf8-a50f5fed27c6",
   "metadata": {},
   "outputs": [
    {
     "data": {
      "text/plain": [
       "<matplotlib.collections.PathCollection at 0x27e7db0ba70>"
      ]
     },
     "execution_count": 239,
     "metadata": {},
     "output_type": "execute_result"
    },
    {
     "data": {
      "image/png": "[encoded data removed]",
      "text/plain": [
       "<Figure size 640x480 with 1 Axes>"
      ]
     },
     "metadata": {},
     "output_type": "display_data"
    }
   ],
   "source": [
    "nonsmoker_only = insurance_df[insurance_df.smoker=='no']\n",
    "plt.scatter(nonsmoker_only.charges_age,nonsmoker_only.age)"
   ]
  },
  {
   "cell_type": "code",
   "execution_count": 477,
   "id": "8448c1e2-acb0-440a-a189-98c89543ff99",
   "metadata": {},
   "outputs": [],
   "source": [
    "# Creates a formula that will calculate the insurance cost of a non-smoking individual based on the inputs provided by the CSV file\n",
    "def insurance_cost(age,bmi,children,region,sex):\n",
    "    s_cost = (float(age**2)*3.363)+(bmi*1.39)+(children*589.0)\n",
    "    if region == 'northeast':\n",
    "        s_cost += 583.0\n",
    "    if region == 'northwest':\n",
    "        s_cost += 383.0\n",
    "    if sex == 'female':\n",
    "        s_cost += 489.0\n",
    "    return s_cost"
   ]
  },
  {
   "cell_type": "code",
   "execution_count": 479,
   "id": "eaa42b60-2bff-4d44-8db2-8defce8d34ca",
   "metadata": {},
   "outputs": [
    {
     "name": "stdout",
     "output_type": "stream",
     "text": [
      "1725.5523\n"
     ]
    }
   ],
   "source": [
    "# Prints the estimated insurance cost for two hypothetical individuals. This can be cross checked with the original file\n",
    "person_1 = insurance_cost(18,33.77,1,'southeast','male')\n",
    "print(person_1)\n",
    "\n",
    "person_2 = insurance_cost(62,32.965,3,'northwest','female')\n",
    "print(person_2)"
   ]
  }
 ],
 "metadata": {
  "kernelspec": {
   "display_name": "Python [conda env:base] *",
   "language": "python",
   "name": "conda-base-py"
  },
  "language_info": {
   "codemirror_mode": {
    "name": "ipython",
    "version": 3
   },
   "file_extension": ".py",
   "mimetype": "text/x-python",
   "name": "python",
   "nbconvert_exporter": "python",
   "pygments_lexer": "ipython3",
   "version": "3.12.7"
  }
 },
 "nbformat": 4,
 "nbformat_minor": 5
}
